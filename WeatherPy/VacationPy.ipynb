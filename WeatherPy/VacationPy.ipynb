{
 "cells": [
  {
   "cell_type": "code",
   "execution_count": 1,
   "metadata": {},
   "outputs": [],
   "source": [
    "import requests\n",
    "import pandas as pd\n",
    "import scipy.stats as stat\n",
    "from datetime import date\n",
    "from config import gkey\n",
    "from citipy import citipy\n",
    "\n",
    "import json\n",
    "import gmaps"
   ]
  },
  {
   "cell_type": "code",
   "execution_count": 2,
   "metadata": {},
   "outputs": [],
   "source": [
    "dfCities = pd.read_csv('Cities.csv')"
   ]
  },
  {
   "cell_type": "code",
   "execution_count": 3,
   "metadata": {},
   "outputs": [],
   "source": [
    "gmaps.configure(api_key = gkey)\n",
    "\n",
    "location = dfCities[['Latitude', 'Longitude']]\n",
    "humidity = dfCities['Humidity %']\n",
    "\n",
    "fig = gmaps.figure()\n",
    "\n",
    "heatmap = gmaps.heatmap_layer(location, weights=humidity, max_intensity = dfCities['Humidity %'].max())\n",
    "\n",
    "fig.add_layer(heatmap)"
   ]
  },
  {
   "cell_type": "code",
   "execution_count": 4,
   "metadata": {
    "scrolled": true
   },
   "outputs": [
    {
     "data": {
      "application/vnd.jupyter.widget-view+json": {
       "model_id": "7e84842195764e64ae84d4ca39eeb0d5",
       "version_major": 2,
       "version_minor": 0
      },
      "text/plain": [
       "Figure(layout=FigureLayout(height='420px'))"
      ]
     },
     "metadata": {},
     "output_type": "display_data"
    }
   ],
   "source": [
    "fig"
   ]
  },
  {
   "cell_type": "code",
   "execution_count": 9,
   "metadata": {},
   "outputs": [
    {
     "data": {
      "text/html": [
       "<div>\n",
       "<style scoped>\n",
       "    .dataframe tbody tr th:only-of-type {\n",
       "        vertical-align: middle;\n",
       "    }\n",
       "\n",
       "    .dataframe tbody tr th {\n",
       "        vertical-align: top;\n",
       "    }\n",
       "\n",
       "    .dataframe thead th {\n",
       "        text-align: right;\n",
       "    }\n",
       "</style>\n",
       "<table border=\"1\" class=\"dataframe\">\n",
       "  <thead>\n",
       "    <tr style=\"text-align: right;\">\n",
       "      <th></th>\n",
       "      <th>City</th>\n",
       "      <th>Temperature (F)</th>\n",
       "      <th>Humidity %</th>\n",
       "      <th>Cloudiness %</th>\n",
       "      <th>Wind Speed (mph)</th>\n",
       "      <th>Latitude</th>\n",
       "      <th>Longitude</th>\n",
       "      <th>Country</th>\n",
       "      <th>Date</th>\n",
       "    </tr>\n",
       "  </thead>\n",
       "  <tbody>\n",
       "    <tr>\n",
       "      <th>9</th>\n",
       "      <td>kapaa</td>\n",
       "      <td>70.77</td>\n",
       "      <td>83</td>\n",
       "      <td>1</td>\n",
       "      <td>4.70</td>\n",
       "      <td>22.08</td>\n",
       "      <td>-159.32</td>\n",
       "      <td>US</td>\n",
       "      <td>04/10/20</td>\n",
       "    </tr>\n",
       "    <tr>\n",
       "      <th>99</th>\n",
       "      <td>tura</td>\n",
       "      <td>73.81</td>\n",
       "      <td>35</td>\n",
       "      <td>0</td>\n",
       "      <td>4.54</td>\n",
       "      <td>25.52</td>\n",
       "      <td>90.22</td>\n",
       "      <td>IN</td>\n",
       "      <td>04/10/20</td>\n",
       "    </tr>\n",
       "    <tr>\n",
       "      <th>202</th>\n",
       "      <td>narasannapeta</td>\n",
       "      <td>79.23</td>\n",
       "      <td>84</td>\n",
       "      <td>0</td>\n",
       "      <td>5.59</td>\n",
       "      <td>18.42</td>\n",
       "      <td>84.05</td>\n",
       "      <td>IN</td>\n",
       "      <td>04/10/20</td>\n",
       "    </tr>\n",
       "    <tr>\n",
       "      <th>258</th>\n",
       "      <td>kahului</td>\n",
       "      <td>73.78</td>\n",
       "      <td>73</td>\n",
       "      <td>1</td>\n",
       "      <td>4.25</td>\n",
       "      <td>20.89</td>\n",
       "      <td>-156.47</td>\n",
       "      <td>US</td>\n",
       "      <td>04/10/20</td>\n",
       "    </tr>\n",
       "    <tr>\n",
       "      <th>291</th>\n",
       "      <td>baracoa</td>\n",
       "      <td>78.91</td>\n",
       "      <td>75</td>\n",
       "      <td>0</td>\n",
       "      <td>4.14</td>\n",
       "      <td>20.35</td>\n",
       "      <td>-74.50</td>\n",
       "      <td>CU</td>\n",
       "      <td>04/10/20</td>\n",
       "    </tr>\n",
       "    <tr>\n",
       "      <th>476</th>\n",
       "      <td>crestview</td>\n",
       "      <td>71.08</td>\n",
       "      <td>35</td>\n",
       "      <td>1</td>\n",
       "      <td>5.82</td>\n",
       "      <td>30.76</td>\n",
       "      <td>-86.57</td>\n",
       "      <td>US</td>\n",
       "      <td>04/10/20</td>\n",
       "    </tr>\n",
       "  </tbody>\n",
       "</table>\n",
       "</div>"
      ],
      "text/plain": [
       "              City  Temperature (F)  Humidity %  Cloudiness %  \\\n",
       "9            kapaa            70.77          83             1   \n",
       "99            tura            73.81          35             0   \n",
       "202  narasannapeta            79.23          84             0   \n",
       "258        kahului            73.78          73             1   \n",
       "291        baracoa            78.91          75             0   \n",
       "476      crestview            71.08          35             1   \n",
       "\n",
       "     Wind Speed (mph)  Latitude  Longitude Country      Date  \n",
       "9                4.70     22.08    -159.32      US  04/10/20  \n",
       "99               4.54     25.52      90.22      IN  04/10/20  \n",
       "202              5.59     18.42      84.05      IN  04/10/20  \n",
       "258              4.25     20.89    -156.47      US  04/10/20  \n",
       "291              4.14     20.35     -74.50      CU  04/10/20  \n",
       "476              5.82     30.76     -86.57      US  04/10/20  "
      ]
     },
     "execution_count": 9,
     "metadata": {},
     "output_type": "execute_result"
    }
   ],
   "source": [
    "dfGoodCities = dfCities.loc[(dfCities['Temperature (F)'] >=70) & (dfCities['Temperature (F)'] < 80) & \n",
    "                            (dfCities['Wind Speed (mph)'] < 6) &\n",
    "                            (dfCities['Cloudiness %'] < 5)]\n",
    "dfGoodCities"
   ]
  },
  {
   "cell_type": "code",
   "execution_count": 10,
   "metadata": {},
   "outputs": [],
   "source": [
    "params = {'type': 'lodging',\n",
    "          'keyword': 'hotel',\n",
    "          'radius': 5000,\n",
    "          'key': gkey,\n",
    "          'language': 'en'}\n",
    "\n",
    "url = \"https://maps.googleapis.com/maps/api/place/nearbysearch/json\"\n",
    "\n",
    "pins = []\n",
    "for index, row in dfGoodCities.iterrows():\n",
    "    params['location'] = f'{row[\"Latitude\"]},{row[\"Longitude\"]}'\n",
    "    \n",
    "    hotelJson = requests.get(url, params = params).json()\n",
    "    try:\n",
    "        latlon = (hotelJson['results'][0]['geometry']['location']['lat'], hotelJson['results'][0]['geometry']['location']['lng'] )\n",
    "\n",
    "        city = row['City']\n",
    "        name = hotelJson['results'][0]['name']\n",
    "        country = row['Country']\n",
    "\n",
    "        pins.append({'latlon': latlon,\n",
    "                 'city': city,\n",
    "                 'name': name,\n",
    "                 'country': country})\n",
    "    except:\n",
    "        print(f'No Hotel found for {row[\"City\"]}')\n",
    "    "
   ]
  },
  {
   "cell_type": "code",
   "execution_count": 11,
   "metadata": {},
   "outputs": [
    {
     "data": {
      "application/vnd.jupyter.widget-view+json": {
       "model_id": "7e84842195764e64ae84d4ca39eeb0d5",
       "version_major": 2,
       "version_minor": 0
      },
      "text/plain": [
       "Figure(layout=FigureLayout(height='420px'))"
      ]
     },
     "metadata": {},
     "output_type": "display_data"
    }
   ],
   "source": [
    "locations = [pin['latlon'] for pin in pins]\n",
    "\n",
    "#stole this bit from https://jupyter-gmaps.readthedocs.io/en/latest/tutorial.html#drawing-markers-lines-and-polygons\n",
    "infoTemplate = \"\"\"\n",
    "<dl>\n",
    "<dt>Hotel Name</dt><dd>{name}</dd>\n",
    "<dt>City</dt><dd>{city}</dd>\n",
    "<dt>Country</dt><dd>{country}</dd>\n",
    "</dl>\n",
    "\"\"\"\n",
    "#------------\n",
    "\n",
    "markerInfo = [infoTemplate.format(**pin) for pin in pins]\n",
    "\n",
    "markerLayer = gmaps.marker_layer(locations, info_box_content=markerInfo)\n",
    "fig.add_layer(markerLayer)\n",
    "fig"
   ]
  },
  {
   "cell_type": "code",
   "execution_count": null,
   "metadata": {},
   "outputs": [],
   "source": []
  }
 ],
 "metadata": {
  "kernelspec": {
   "display_name": "Python 3",
   "language": "python",
   "name": "python3"
  },
  "language_info": {
   "codemirror_mode": {
    "name": "ipython",
    "version": 3
   },
   "file_extension": ".py",
   "mimetype": "text/x-python",
   "name": "python",
   "nbconvert_exporter": "python",
   "pygments_lexer": "ipython3",
   "version": "3.7.4"
  }
 },
 "nbformat": 4,
 "nbformat_minor": 2
}
