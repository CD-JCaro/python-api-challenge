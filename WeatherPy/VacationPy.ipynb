{
 "cells": [
  {
   "cell_type": "code",
   "execution_count": 1,
   "metadata": {},
   "outputs": [],
   "source": [
    "import requests\n",
    "import pandas as pd\n",
    "import scipy.stats as stat\n",
    "from datetime import date\n",
    "from config import gkey\n",
    "from citipy import citipy\n",
    "\n",
    "import json\n",
    "import gmaps"
   ]
  },
  {
   "cell_type": "code",
   "execution_count": 2,
   "metadata": {},
   "outputs": [],
   "source": [
    "dfCities = pd.read_csv('Cities.csv')"
   ]
  },
  {
   "cell_type": "code",
   "execution_count": 12,
   "metadata": {},
   "outputs": [],
   "source": [
    "gmaps.configure(api_key = gkey)\n",
    "\n",
    "location = dfCities[['Latitude', 'Longitude']]\n",
    "humidity = dfCities['Humidity %']\n",
    "\n",
    "fig = gmaps.figure()\n",
    "\n",
    "heatmap = gmaps.heatmap_layer(location, weights=humidity, max_intensity = dfCities['Humidity %'].max())\n",
    "\n",
    "fig.add_layer(heatmap)"
   ]
  },
  {
   "cell_type": "code",
   "execution_count": 13,
   "metadata": {
    "scrolled": true
   },
   "outputs": [
    {
     "data": {
      "application/vnd.jupyter.widget-view+json": {
       "model_id": "50df0bce799a4c31ac7bf4bf01433778",
       "version_major": 2,
       "version_minor": 0
      },
      "text/plain": [
       "Figure(layout=FigureLayout(height='420px'))"
      ]
     },
     "metadata": {},
     "output_type": "display_data"
    }
   ],
   "source": [
    "fig"
   ]
  },
  {
   "cell_type": "code",
   "execution_count": 5,
   "metadata": {},
   "outputs": [
    {
     "data": {
      "text/html": [
       "<div>\n",
       "<style scoped>\n",
       "    .dataframe tbody tr th:only-of-type {\n",
       "        vertical-align: middle;\n",
       "    }\n",
       "\n",
       "    .dataframe tbody tr th {\n",
       "        vertical-align: top;\n",
       "    }\n",
       "\n",
       "    .dataframe thead th {\n",
       "        text-align: right;\n",
       "    }\n",
       "</style>\n",
       "<table border=\"1\" class=\"dataframe\">\n",
       "  <thead>\n",
       "    <tr style=\"text-align: right;\">\n",
       "      <th></th>\n",
       "      <th>City</th>\n",
       "      <th>Temperature (F)</th>\n",
       "      <th>Humidity %</th>\n",
       "      <th>Cloudiness %</th>\n",
       "      <th>Wind Speed (mph)</th>\n",
       "      <th>Latitude</th>\n",
       "      <th>Longitude</th>\n",
       "      <th>Country</th>\n",
       "    </tr>\n",
       "  </thead>\n",
       "  <tbody>\n",
       "    <tr>\n",
       "      <th>72</th>\n",
       "      <td>esmeralda</td>\n",
       "      <td>77.67</td>\n",
       "      <td>68</td>\n",
       "      <td>0</td>\n",
       "      <td>3.65</td>\n",
       "      <td>21.85</td>\n",
       "      <td>-78.12</td>\n",
       "      <td>CU</td>\n",
       "    </tr>\n",
       "    <tr>\n",
       "      <th>167</th>\n",
       "      <td>altar</td>\n",
       "      <td>73.99</td>\n",
       "      <td>25</td>\n",
       "      <td>0</td>\n",
       "      <td>4.00</td>\n",
       "      <td>30.70</td>\n",
       "      <td>-111.82</td>\n",
       "      <td>MX</td>\n",
       "    </tr>\n",
       "    <tr>\n",
       "      <th>172</th>\n",
       "      <td>carnarvon</td>\n",
       "      <td>78.85</td>\n",
       "      <td>63</td>\n",
       "      <td>1</td>\n",
       "      <td>8.41</td>\n",
       "      <td>-24.87</td>\n",
       "      <td>113.63</td>\n",
       "      <td>AU</td>\n",
       "    </tr>\n",
       "    <tr>\n",
       "      <th>279</th>\n",
       "      <td>khed</td>\n",
       "      <td>73.45</td>\n",
       "      <td>67</td>\n",
       "      <td>0</td>\n",
       "      <td>3.49</td>\n",
       "      <td>17.72</td>\n",
       "      <td>73.38</td>\n",
       "      <td>IN</td>\n",
       "    </tr>\n",
       "    <tr>\n",
       "      <th>284</th>\n",
       "      <td>teknaf</td>\n",
       "      <td>73.20</td>\n",
       "      <td>88</td>\n",
       "      <td>1</td>\n",
       "      <td>2.17</td>\n",
       "      <td>20.86</td>\n",
       "      <td>92.31</td>\n",
       "      <td>BD</td>\n",
       "    </tr>\n",
       "    <tr>\n",
       "      <th>292</th>\n",
       "      <td>colombo</td>\n",
       "      <td>77.20</td>\n",
       "      <td>84</td>\n",
       "      <td>0</td>\n",
       "      <td>3.98</td>\n",
       "      <td>6.93</td>\n",
       "      <td>79.85</td>\n",
       "      <td>LK</td>\n",
       "    </tr>\n",
       "    <tr>\n",
       "      <th>296</th>\n",
       "      <td>loandjili</td>\n",
       "      <td>79.45</td>\n",
       "      <td>85</td>\n",
       "      <td>1</td>\n",
       "      <td>5.06</td>\n",
       "      <td>-4.76</td>\n",
       "      <td>11.86</td>\n",
       "      <td>CG</td>\n",
       "    </tr>\n",
       "    <tr>\n",
       "      <th>316</th>\n",
       "      <td>san juan</td>\n",
       "      <td>70.68</td>\n",
       "      <td>32</td>\n",
       "      <td>0</td>\n",
       "      <td>5.95</td>\n",
       "      <td>-31.54</td>\n",
       "      <td>-68.54</td>\n",
       "      <td>AR</td>\n",
       "    </tr>\n",
       "    <tr>\n",
       "      <th>419</th>\n",
       "      <td>chabahar</td>\n",
       "      <td>78.04</td>\n",
       "      <td>62</td>\n",
       "      <td>0</td>\n",
       "      <td>1.48</td>\n",
       "      <td>25.29</td>\n",
       "      <td>60.64</td>\n",
       "      <td>IR</td>\n",
       "    </tr>\n",
       "  </tbody>\n",
       "</table>\n",
       "</div>"
      ],
      "text/plain": [
       "          City  Temperature (F)  Humidity %  Cloudiness %  Wind Speed (mph)  \\\n",
       "72   esmeralda            77.67          68             0              3.65   \n",
       "167      altar            73.99          25             0              4.00   \n",
       "172  carnarvon            78.85          63             1              8.41   \n",
       "279       khed            73.45          67             0              3.49   \n",
       "284     teknaf            73.20          88             1              2.17   \n",
       "292    colombo            77.20          84             0              3.98   \n",
       "296  loandjili            79.45          85             1              5.06   \n",
       "316   san juan            70.68          32             0              5.95   \n",
       "419   chabahar            78.04          62             0              1.48   \n",
       "\n",
       "     Latitude  Longitude Country  \n",
       "72      21.85     -78.12      CU  \n",
       "167     30.70    -111.82      MX  \n",
       "172    -24.87     113.63      AU  \n",
       "279     17.72      73.38      IN  \n",
       "284     20.86      92.31      BD  \n",
       "292      6.93      79.85      LK  \n",
       "296     -4.76      11.86      CG  \n",
       "316    -31.54     -68.54      AR  \n",
       "419     25.29      60.64      IR  "
      ]
     },
     "execution_count": 5,
     "metadata": {},
     "output_type": "execute_result"
    }
   ],
   "source": [
    "dfGoodCities = dfCities.loc[(dfCities['Temperature (F)'] >=70) & (dfCities['Temperature (F)'] < 80) & \n",
    "                            (dfCities['Wind Speed (mph)'] < 10) &\n",
    "                            (dfCities['Cloudiness %'] < 5)]\n",
    "dfGoodCities"
   ]
  },
  {
   "cell_type": "code",
   "execution_count": 6,
   "metadata": {},
   "outputs": [],
   "source": [
    "params = {'type': 'lodging',\n",
    "          'keyword': 'hotel',\n",
    "          'radius': 5000,\n",
    "          'key': gkey,\n",
    "          'language': 'en'}\n",
    "\n",
    "url = \"https://maps.googleapis.com/maps/api/place/nearbysearch/json\"\n",
    "\n",
    "pins = []\n",
    "for index, row in dfGoodCities.iterrows():\n",
    "    params['location'] = f'{row[\"Latitude\"]},{row[\"Longitude\"]}'\n",
    "    \n",
    "    hotelJson = requests.get(url, params = params).json()\n",
    "    try:\n",
    "        latlon = (hotelJson['results'][0]['geometry']['location']['lat'], hotelJson['results'][0]['geometry']['location']['lng'] )\n",
    "\n",
    "        city = row['City']\n",
    "        name = hotelJson['results'][0]['name']\n",
    "        country = row['Country']\n",
    "\n",
    "        pins.append({'latlon': latlon,\n",
    "                 'city': city,\n",
    "                 'name': name,\n",
    "                 'country': country})\n",
    "    except:\n",
    "        print(f'No Hotel found for {row[\"City\"]}')\n",
    "    "
   ]
  },
  {
   "cell_type": "code",
   "execution_count": 7,
   "metadata": {},
   "outputs": [
    {
     "data": {
      "application/vnd.jupyter.widget-view+json": {
       "model_id": "2af7ff1226d44e0982f4f2ef8a55f015",
       "version_major": 2,
       "version_minor": 0
      },
      "text/plain": [
       "Figure(layout=FigureLayout(height='420px'))"
      ]
     },
     "metadata": {},
     "output_type": "display_data"
    }
   ],
   "source": [
    "locations = [pin['latlon'] for pin in pins]\n",
    "\n",
    "#stole this bit from https://jupyter-gmaps.readthedocs.io/en/latest/tutorial.html#drawing-markers-lines-and-polygons\n",
    "infoTemplate = \"\"\"\n",
    "<dl>\n",
    "<dt>Hotel Name</dt><dd>{name}</dd>\n",
    "<dt>City</dt><dd>{city}</dd>\n",
    "<dt>Country</dt><dd>{country}</dd>\n",
    "</dl>\n",
    "\"\"\"\n",
    "#------------\n",
    "\n",
    "markerInfo = [infoTemplate.format(**pin) for pin in pins]\n",
    "\n",
    "markerLayer = gmaps.marker_layer(locations, info_box_content=markerInfo)\n",
    "fig.add_layer(markerLayer)\n",
    "fig"
   ]
  },
  {
   "cell_type": "code",
   "execution_count": null,
   "metadata": {},
   "outputs": [],
   "source": []
  }
 ],
 "metadata": {
  "kernelspec": {
   "display_name": "Python 3",
   "language": "python",
   "name": "python3"
  },
  "language_info": {
   "codemirror_mode": {
    "name": "ipython",
    "version": 3
   },
   "file_extension": ".py",
   "mimetype": "text/x-python",
   "name": "python",
   "nbconvert_exporter": "python",
   "pygments_lexer": "ipython3",
   "version": "3.7.4"
  }
 },
 "nbformat": 4,
 "nbformat_minor": 2
}
